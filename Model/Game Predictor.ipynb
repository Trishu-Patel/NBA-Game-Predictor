{
 "cells": [
  {
   "cell_type": "code",
   "execution_count": 73,
   "metadata": {},
   "outputs": [],
   "source": [
    "import pandas as pd\n",
    "import json\n",
    "import joblib\n",
    "\n",
    "file = open('NBA Team Data.json')\n",
    "teams = json.load(file)\n",
    "current_nba_data = pd.read_csv('../Data/Current NBA Game Data.csv', index_col=0)"
   ]
  },
  {
   "cell_type": "markdown",
   "metadata": {},
   "source": [
    "## Getting Prediction Stats\n",
    "Run Current Data Scraper.ipynb get the most up to date stats for all teams. \n",
    "\n",
    "The program will then process the data, feed it to the machine learning model, and make a prediction!"
   ]
  },
  {
   "cell_type": "code",
   "execution_count": 74,
   "metadata": {},
   "outputs": [],
   "source": [
    "# retrieves and formats recent NBA game data into a pandas data frame\n",
    "def get_prediction_stats(away_team, home_team):\n",
    "    away_team_data = current_nba_data.loc[teams[away_team]]\n",
    "    away_team_data.index = [f'{i}_A' for i in list(away_team_data.index)]\n",
    "    home_team_data = current_nba_data.loc[teams[home_team]]\n",
    "    home_team_data.index = [f'{i}_H' for i in list(home_team_data.index)]\n",
    "\n",
    "    game_prediction_data = pd.concat([away_team_data, home_team_data])\n",
    "    game_prediction_data['NEXT_HOME/AWAY'] = 0.0\n",
    "    game_prediction_data['AWAY_TEAM'] = away_team\n",
    "    game_prediction_data['HOME_TEAM'] = home_team\n",
    "\n",
    "\n",
    "    return pd.DataFrame(game_prediction_data).T"
   ]
  },
  {
   "cell_type": "code",
   "execution_count": 75,
   "metadata": {},
   "outputs": [],
   "source": [
    "def make_prediction(away_team, home_team):    \n",
    "    game_prediction_data = get_prediction_stats(away_team, home_team)\n",
    "\n",
    "    # loads the saved preprocessing pipeline and ml model\n",
    "    scaler, rr, training_values, target = joblib.load('Ridge Classifier Model.pkl')\n",
    "\n",
    "    # applies the preprocessing pipeline to current game prediction data and make a prediciton\n",
    "    scaled_data = pd.DataFrame(scaler.transform(game_prediction_data[training_values]), columns=training_values)\n",
    "    game_prediction_data[\"PREDICTED_WINNER\"] = rr.predict(scaled_data)\n",
    "\n",
    "    # formats and prints prediction for current game\n",
    "    win_team = away_team if game_prediction_data[\"PREDICTED_WINNER\"][0] == 1.0 else home_team\n",
    "    print(f'{away_team} at {home_team}    Predicted Winner : {win_team}')\n",
    "\n",
    "    return game_prediction_data"
   ]
  },
  {
   "cell_type": "markdown",
   "metadata": {},
   "source": [
    "## Making a Prediction!\n",
    "Run make_prediction with team abbreviations. \n",
    "The rr model will then print it's prediction for that given game.\n",
    "\n",
    "NOTE : Make sure you specify which teams is home and which is away to increase the accuracy of the prediction "
   ]
  },
  {
   "cell_type": "code",
   "execution_count": 76,
   "metadata": {},
   "outputs": [
    {
     "name": "stdout",
     "output_type": "stream",
     "text": [
      "MIN at DET : MIN\n"
     ]
    },
    {
     "data": {
      "text/html": [
       "<div>\n",
       "<style scoped>\n",
       "    .dataframe tbody tr th:only-of-type {\n",
       "        vertical-align: middle;\n",
       "    }\n",
       "\n",
       "    .dataframe tbody tr th {\n",
       "        vertical-align: top;\n",
       "    }\n",
       "\n",
       "    .dataframe thead th {\n",
       "        text-align: right;\n",
       "    }\n",
       "</style>\n",
       "<table border=\"1\" class=\"dataframe\">\n",
       "  <thead>\n",
       "    <tr style=\"text-align: right;\">\n",
       "      <th></th>\n",
       "      <th>PTS_AVG_A</th>\n",
       "      <th>PTS_A</th>\n",
       "      <th>PTS_OPP_AVG_A</th>\n",
       "      <th>PTS_OPP_A</th>\n",
       "      <th>WIN/LOSS_AVG_A</th>\n",
       "      <th>WIN/LOSS_A</th>\n",
       "      <th>FG_AVG_A</th>\n",
       "      <th>FG_A</th>\n",
       "      <th>FGA_AVG_A</th>\n",
       "      <th>FGA_A</th>\n",
       "      <th>...</th>\n",
       "      <th>PF_OPP_H</th>\n",
       "      <th>TRB_H</th>\n",
       "      <th>TRB_AVG_H</th>\n",
       "      <th>TRB_OPP_H</th>\n",
       "      <th>TRB_OPP_AVG_H</th>\n",
       "      <th>HOME/AWAY_H</th>\n",
       "      <th>NEXT_HOME/AWAY</th>\n",
       "      <th>AWAY_TEAM</th>\n",
       "      <th>HOME_TEAM</th>\n",
       "      <th>PREDICTED_WINNER</th>\n",
       "    </tr>\n",
       "  </thead>\n",
       "  <tbody>\n",
       "    <tr>\n",
       "      <th>0</th>\n",
       "      <td>111.3</td>\n",
       "      <td>106.0</td>\n",
       "      <td>112.7</td>\n",
       "      <td>129.0</td>\n",
       "      <td>0.667</td>\n",
       "      <td>0.0</td>\n",
       "      <td>40.0</td>\n",
       "      <td>34.0</td>\n",
       "      <td>82.3</td>\n",
       "      <td>73.0</td>\n",
       "      <td>...</td>\n",
       "      <td>22.0</td>\n",
       "      <td>52.0</td>\n",
       "      <td>43.0</td>\n",
       "      <td>42.0</td>\n",
       "      <td>41.4</td>\n",
       "      <td>1.0</td>\n",
       "      <td>0.0</td>\n",
       "      <td>MIN</td>\n",
       "      <td>DET</td>\n",
       "      <td>1.0</td>\n",
       "    </tr>\n",
       "  </tbody>\n",
       "</table>\n",
       "<p>1 rows × 158 columns</p>\n",
       "</div>"
      ],
      "text/plain": [
       "  PTS_AVG_A  PTS_A PTS_OPP_AVG_A PTS_OPP_A WIN/LOSS_AVG_A WIN/LOSS_A FG_AVG_A  \\\n",
       "0     111.3  106.0         112.7     129.0          0.667        0.0     40.0   \n",
       "\n",
       "   FG_A FGA_AVG_A FGA_A  ... PF_OPP_H TRB_H TRB_AVG_H TRB_OPP_H TRB_OPP_AVG_H  \\\n",
       "0  34.0      82.3  73.0  ...     22.0  52.0      43.0      42.0          41.4   \n",
       "\n",
       "  HOME/AWAY_H NEXT_HOME/AWAY AWAY_TEAM HOME_TEAM PREDICTED_WINNER  \n",
       "0         1.0            0.0       MIN       DET              1.0  \n",
       "\n",
       "[1 rows x 158 columns]"
      ]
     },
     "execution_count": 76,
     "metadata": {},
     "output_type": "execute_result"
    }
   ],
   "source": [
    "make_prediction(away_team='DET', home_team='MIN')"
   ]
  }
 ],
 "metadata": {
  "kernelspec": {
   "display_name": "Python 3",
   "language": "python",
   "name": "python3"
  },
  "language_info": {
   "codemirror_mode": {
    "name": "ipython",
    "version": 3
   },
   "file_extension": ".py",
   "mimetype": "text/x-python",
   "name": "python",
   "nbconvert_exporter": "python",
   "pygments_lexer": "ipython3",
   "version": "3.10.11"
  }
 },
 "nbformat": 4,
 "nbformat_minor": 2
}
