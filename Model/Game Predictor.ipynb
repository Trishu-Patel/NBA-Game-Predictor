{
 "cells": [
  {
   "cell_type": "code",
   "execution_count": 13,
   "metadata": {},
   "outputs": [],
   "source": [
    "import pandas as pd\n",
    "import json\n",
    "import joblib\n",
    "\n",
    "file = open('NBA Team Data.json')\n",
    "teams = json.load(file)\n",
    "current_nba_data = pd.read_csv('../Data/Current NBA Game Data.csv', index_col=0)"
   ]
  },
  {
   "cell_type": "markdown",
   "metadata": {},
   "source": [
    "## Getting Prediction Stats\n",
    "Run Current Data Scraper.ipynb get the most up to date stats for all teams. \n",
    "\n",
    "The program will then process the data, feed it to the machine learning model, and make a prediction!"
   ]
  },
  {
   "cell_type": "code",
   "execution_count": 14,
   "metadata": {},
   "outputs": [],
   "source": [
    "# retrieves and formats recent NBA game data into a pandas data frame\n",
    "def get_prediction_stats(away_team, home_team):\n",
    "    away_team_data = current_nba_data.loc[teams[away_team]]\n",
    "    away_team_data.index = [f'{i}_A' for i in list(away_team_data.index)]\n",
    "    home_team_data = current_nba_data.loc[teams[home_team]]\n",
    "    home_team_data.index = [f'{i}_H' for i in list(home_team_data.index)]\n",
    "\n",
    "    game_prediction_data = pd.concat([away_team_data, home_team_data])\n",
    "    game_prediction_data['NEXT_HOME/AWAY'] = 0.0\n",
    "    game_prediction_data['AWAY_TEAM'] = away_team\n",
    "    game_prediction_data['HOME_TEAM'] = home_team\n",
    "\n",
    "\n",
    "    return pd.DataFrame(game_prediction_data).T"
   ]
  },
  {
   "cell_type": "code",
   "execution_count": 15,
   "metadata": {},
   "outputs": [],
   "source": [
    "def make_prediction(away_team, home_team):    \n",
    "    game_prediction_data = get_prediction_stats(away_team, home_team)\n",
    "\n",
    "    # loads the saved preprocessing pipeline and ml model\n",
    "    scaler, rr, training_values, target = joblib.load('Ridge Classifier Model.pkl')\n",
    "\n",
    "    # applies the preprocessing pipeline to current game prediction data and make a prediciton\n",
    "    scaled_data = pd.DataFrame(scaler.transform(game_prediction_data[training_values]), columns=training_values)\n",
    "    game_prediction_data[\"PREDICTED_WINNER\"] = rr.predict(scaled_data)\n",
    "\n",
    "    # finds the predicted winning team\n",
    "    win_team = away_team if game_prediction_data[\"PREDICTED_WINNER\"][0] == 1.0 else home_team\n",
    "    return win_team"
   ]
  },
  {
   "cell_type": "markdown",
   "metadata": {},
   "source": [
    "## Making a Prediction!\n",
    "Run make_prediction with team abbreviations. \n",
    "The rr model will then print it's prediction for that given game.\n",
    "\n",
    "NOTE : Make sure you specify which teams is home and which is away to increase the accuracy of the prediction "
   ]
  },
  {
   "cell_type": "code",
   "execution_count": 16,
   "metadata": {},
   "outputs": [
    {
     "data": {
      "text/plain": [
       "'MIN'"
      ]
     },
     "execution_count": 16,
     "metadata": {},
     "output_type": "execute_result"
    }
   ],
   "source": [
    "make_prediction(away_team='DET', home_team='MIN')"
   ]
  },
  {
   "cell_type": "code",
   "execution_count": 18,
   "metadata": {},
   "outputs": [
    {
     "name": "stdout",
     "output_type": "stream",
     "text": [
      "AWAY TEAM : DET\n",
      "HOME TEAM : DAL\n",
      "DET at DAL       Predicted Winner : DAL\n",
      "AWAY TEAM : LAL\n",
      "HOME TEAM : LAC\n",
      "LAL at LAC       Predicted Winner : LAC\n",
      "AWAY TEAM : NYK\n",
      "HOME TEAM : BKN\n",
      "NYK at BKN       Predicted Winner : BKN\n",
      "AWAY TEAM : SAS\n",
      "HOME TEAM : HOU\n",
      "SAS at HOU       Predicted Winner : HOU\n",
      "THANKS FOR USING NBA GAME PREDICTOR! 🏀\n"
     ]
    }
   ],
   "source": [
    "def make_multiple_predictions():\n",
    "    running = True\n",
    "    while running:\n",
    "        # selecting away team\n",
    "        a_team , h_team = '', ''\n",
    "        while(a_team not in teams):\n",
    "            a_team = input('AWAY TEAM (q to quit): ')\n",
    "            if a_team == 'q':\n",
    "                running = False\n",
    "                break\n",
    "            a_team = a_team.upper()\n",
    "\n",
    "        if not running : break \n",
    "        print(f'AWAY TEAM : {a_team}')\n",
    "\n",
    "        while(h_team not in teams):\n",
    "            h_team = input('HOME TEAM (q to quit): ')\n",
    "            if h_team == 'q':\n",
    "                running = False\n",
    "                break\n",
    "            h_team = h_team.upper()\n",
    "\n",
    "        if not running : break \n",
    "        print(f'HOME TEAM : {h_team}')\n",
    "\n",
    "        print(f'{a_team} at {h_team}       Predicted Winner : {make_prediction(away_team=a_team, home_team=h_team)}')\n",
    "\n",
    "    print('THANKS FOR USING NBA GAME PREDICTOR! 🏀')\n",
    "\n",
    "make_multiple_predictions()"
   ]
  }
 ],
 "metadata": {
  "kernelspec": {
   "display_name": "Python 3",
   "language": "python",
   "name": "python3"
  },
  "language_info": {
   "codemirror_mode": {
    "name": "ipython",
    "version": 3
   },
   "file_extension": ".py",
   "mimetype": "text/x-python",
   "name": "python",
   "nbconvert_exporter": "python",
   "pygments_lexer": "ipython3",
   "version": "3.10.11"
  }
 },
 "nbformat": 4,
 "nbformat_minor": 2
}
